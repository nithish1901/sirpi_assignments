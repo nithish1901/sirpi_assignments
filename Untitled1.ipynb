{
  "nbformat": 4,
  "nbformat_minor": 0,
  "metadata": {
    "colab": {
      "provenance": [],
      "authorship_tag": "ABX9TyPxT8mZDckdw1jrqAHdIMCI",
      "include_colab_link": true
    },
    "kernelspec": {
      "name": "python3",
      "display_name": "Python 3"
    },
    "language_info": {
      "name": "python"
    }
  },
  "cells": [
    {
      "cell_type": "markdown",
      "metadata": {
        "id": "view-in-github",
        "colab_type": "text"
      },
      "source": [
        "<a href=\"https://colab.research.google.com/github/nithish1901/sirpi_assignments/blob/main/Untitled1.ipynb\" target=\"_parent\"><img src=\"https://colab.research.google.com/assets/colab-badge.svg\" alt=\"Open In Colab\"/></a>"
      ]
    },
    {
      "cell_type": "markdown",
      "source": [
        "\n",
        "Types of Variables Question: Write a Python program that defines three types of variables:\n",
        "A string variable to store your name.\n",
        "An integer variable to store your age.\n",
        "A float variable to store your height in meters. Print these variables along with their types using the type() function."
      ],
      "metadata": {
        "id": "HH3v36R_16xr"
      }
    },
    {
      "cell_type": "code",
      "execution_count": null,
      "metadata": {
        "colab": {
          "base_uri": "https://localhost:8080/"
        },
        "id": "Bi2rLrrdziDL",
        "outputId": "cefa0277-db94-4c1e-f33d-b3f5bffc35dc"
      },
      "outputs": [
        {
          "output_type": "stream",
          "name": "stdout",
          "text": [
            "Nithish <class 'str'> 24 <class 'int'> 172 <class 'int'>\n"
          ]
        }
      ],
      "source": [
        "name = \"Nithish\"\n",
        "age = 24\n",
        "height = 172\n",
        "print(name,type(name),age,type(age),height,type(height))"
      ]
    },
    {
      "cell_type": "markdown",
      "source": [
        "Lists Question: Create a list of five fruits ([\"apple\", \"banana\", \"cherry\", \"date\", \"elderberry\"]):\n",
        "Print the first and last fruit from the list.\n",
        "Add a new fruit to the end of the list.\n",
        "Remove the second fruit from the list.\n",
        "Sort the list in alphabetical order and print it"
      ],
      "metadata": {
        "id": "vY0wtdK_2B-a"
      }
    },
    {
      "cell_type": "code",
      "source": [
        "fruitslist=['apple','banana','cherry','date','elderberry']\n",
        "print(fruitslist[0],fruitslist[4])\n",
        "fruitslist.append('fig')\n",
        "fruitslist.pop(1)\n",
        "fruitslist.sort()\n",
        "print(fruitslist)"
      ],
      "metadata": {
        "colab": {
          "base_uri": "https://localhost:8080/"
        },
        "id": "043gANu22Fi8",
        "outputId": "d648615c-d241-4468-98c8-1d679c123567"
      },
      "execution_count": null,
      "outputs": [
        {
          "output_type": "stream",
          "name": "stdout",
          "text": [
            "apple elderberry\n",
            "['apple', 'cherry', 'date', 'elderberry', 'fig']\n"
          ]
        }
      ]
    },
    {
      "cell_type": "markdown",
      "source": [
        "3. Tuples\n",
        "Question:\n",
        "Create a tuple to store the names of three programming languages (\"Python\", \"Java\", \"C++\"):\n",
        " 1. Access the second language in the tuple.\n",
        " 2.Try to replace the second language with \"JavaScript\". What happens?\n",
        " 3. Convert the tuple to a list, make the modification, and convert it back to a tuple.\n",
        "\n"
      ],
      "metadata": {
        "id": "l75dR33hc9Zc"
      }
    },
    {
      "cell_type": "markdown",
      "source": [],
      "metadata": {
        "id": "QRge0_Ecjkk3"
      }
    },
    {
      "cell_type": "markdown",
      "source": [
        "3. Tuples\n",
        "Question:\n",
        "Create a tuple to store the names of three programming languages (\"Python\", \"Java\", \"C++\"):\n",
        " 1. Access the second language in the tuple.\n",
        " 2.Try to replace the second language with \"JavaScript\". What happens?\n",
        " 3. Convert the tuple to a list, make the modification, and convert it back to a tuple.\n",
        "\n"
      ],
      "metadata": {
        "id": "6qOeqqidjoI5"
      }
    },
    {
      "cell_type": "code",
      "source": [
        "lang=(\"Python\", \"Java\", \"C++\")\n",
        "print(lang[1])\n",
        "lang=list(lang)\n",
        "lang[1]=\"javascript\"\n",
        "lang=tuple(lang)\n",
        "print(lang)"
      ],
      "metadata": {
        "colab": {
          "base_uri": "https://localhost:8080/"
        },
        "id": "S1srrgW5jo4q",
        "outputId": "94c27dbd-ed2b-46e8-b4bc-d558ac93e4d0"
      },
      "execution_count": null,
      "outputs": [
        {
          "output_type": "stream",
          "name": "stdout",
          "text": [
            "Java\n",
            "('Python', 'javascript', 'C++')\n"
          ]
        }
      ]
    },
    {
      "cell_type": "markdown",
      "source": [],
      "metadata": {
        "id": "to5JNR4ZkmJt"
      }
    },
    {
      "cell_type": "markdown",
      "source": [
        "4. Data Dictionary - Basics\n",
        "Question:\n",
        "Create a dictionary with the following student details:\n",
        "•\tname: \"John\"\n",
        "•\tage: 18\n",
        "•\tgrade: \"A\"\n",
        " 1. Access and print the value of grade.\n",
        " 2.Add a new key-value pair for hobby with the value \"reading\".\n",
        " 3.Delete the age key from the dictionary.\n"
      ],
      "metadata": {
        "id": "3BNSCf8KdEVn"
      }
    },
    {
      "cell_type": "code",
      "source": [
        "details={\"name\":\"John\",\"age\":18,\"grade\":\"A\"}\n",
        "print(details[\"grade\"])\n",
        "details[\"hobby\"]=\"reading\"\n",
        "details.pop(\"age\")\n",
        "print(details)"
      ],
      "metadata": {
        "colab": {
          "base_uri": "https://localhost:8080/"
        },
        "id": "MvQg0gXSkqc9",
        "outputId": "fd342041-c942-46db-e335-40a1fdc49298"
      },
      "execution_count": null,
      "outputs": [
        {
          "output_type": "stream",
          "name": "stdout",
          "text": [
            "A\n",
            "{'name': 'John', 'grade': 'A', 'hobby': 'reading'}\n"
          ]
        }
      ]
    },
    {
      "cell_type": "code",
      "source": [
        "marks = {\"Math\": 85, \"Science\": 90, \"English\": 78}\n",
        "total_marks = sum(marks.values())\n",
        "average=total_marks/len(marks)\n",
        "print(average)\n",
        "marks['maths']=88\n",
        "print(marks)\n",
        "a=False\n",
        "for i in marks:\n",
        "  if (i==\"History\"):\n",
        "   a=True\n",
        "if(a):\n",
        "  print(\"History is present\")\n",
        "else:\n",
        "  print(\"History is not present\")"
      ],
      "metadata": {
        "colab": {
          "base_uri": "https://localhost:8080/"
        },
        "id": "ScR1vCZ3llvk",
        "outputId": "e2bbdeab-d131-4193-c81b-f4c0d84f1f9c"
      },
      "execution_count": null,
      "outputs": [
        {
          "output_type": "stream",
          "name": "stdout",
          "text": [
            "84.33333333333333\n",
            "{'Math': 85, 'Science': 90, 'English': 78, 'maths': 88}\n",
            "History is not present\n"
          ]
        }
      ]
    },
    {
      "cell_type": "markdown",
      "source": [
        "Functions - Basics Question: Write a Python function named square that takes an integer as input and returns its square. • Call the function with the value 7 and print the result."
      ],
      "metadata": {
        "id": "D6_VE8b8zPLF"
      }
    },
    {
      "cell_type": "code",
      "source": [
        "def square(num):\n",
        "  a=num**2\n",
        "  return a\n",
        "num=int(input(\"Enter the number\"))\n",
        "print(square(num))"
      ],
      "metadata": {
        "colab": {
          "base_uri": "https://localhost:8080/"
        },
        "id": "DviA8TNkrTRM",
        "outputId": "db36fb57-b5ec-411e-a9df-fb9e442855ff"
      },
      "execution_count": null,
      "outputs": [
        {
          "output_type": "stream",
          "name": "stdout",
          "text": [
            "Enter the number3\n",
            "9\n"
          ]
        }
      ]
    },
    {
      "cell_type": "code",
      "source": [],
      "metadata": {
        "id": "VSSmflSBzXM_"
      },
      "execution_count": null,
      "outputs": []
    },
    {
      "cell_type": "markdown",
      "source": [
        "8. Functions - Positional and Keyword Arguments\n",
        "Question:\n",
        "Write a Python function named student_info that accepts the following parameters:\n",
        "•\tname (string)\n",
        "•\tage (integer)\n",
        "•\tgrade (string, default value is \"A\")\n",
        "Call the function with:\n",
        "  1.\tPositional arguments only.\n",
        "  2.\tKeyword arguments only.\n",
        "Print the result in each case.\n"
      ],
      "metadata": {
        "id": "2gaor5wvd8PP"
      }
    },
    {
      "cell_type": "code",
      "source": [
        "def student_info(name=\"Nithish\",age=24,grade=\"A\"):\n",
        "  print(name,age,grade)\n",
        "student_info('nit',24)\n",
        "student_info(name=\"nit\",age=24,grade='B')"
      ],
      "metadata": {
        "id": "21U71b1NziG5",
        "colab": {
          "base_uri": "https://localhost:8080/"
        },
        "outputId": "2abc2145-0e09-4369-9bf4-1965ed102ded"
      },
      "execution_count": null,
      "outputs": [
        {
          "output_type": "stream",
          "name": "stdout",
          "text": [
            "nit 24 A\n",
            "nit 24 B\n"
          ]
        }
      ]
    },
    {
      "cell_type": "markdown",
      "source": [
        "Lists and Functions Question: Write a Python program with the following requirements: a) Create a list of numbers: [10, 20, 30, 40, 50]. b) Define a function named double_values that takes a list as input and returns a new list with each value doubled. c) Pass the list to the function and print the returned list."
      ],
      "metadata": {
        "id": "ZJVTKjHmDbNZ"
      }
    },
    {
      "cell_type": "code",
      "source": [
        "list=[10, 20, 30, 40, 50]\n",
        "def double_values(list):\n",
        "  for i in list:\n",
        "    print(i*2)\n",
        "double_values(list)"
      ],
      "metadata": {
        "colab": {
          "base_uri": "https://localhost:8080/"
        },
        "id": "RVG5Vx8oCW40",
        "outputId": "31bd22d3-0c62-476d-afbc-6d3d7ae4151f"
      },
      "execution_count": null,
      "outputs": [
        {
          "output_type": "stream",
          "name": "stdout",
          "text": [
            "20\n",
            "40\n",
            "60\n",
            "80\n",
            "100\n"
          ]
        }
      ]
    },
    {
      "cell_type": "code",
      "source": [
        "def double_values(c):\n",
        "  list1=c*2\n",
        "  print(list1)\n",
        "double_values([10, 20, 30, 40, 50])"
      ],
      "metadata": {
        "colab": {
          "base_uri": "https://localhost:8080/"
        },
        "id": "-LumIpHPDY3k",
        "outputId": "836d00d0-a381-4685-8197-763f023426fc"
      },
      "execution_count": null,
      "outputs": [
        {
          "output_type": "stream",
          "name": "stdout",
          "text": [
            "[10, 20, 30, 40, 50, 10, 20, 30, 40, 50]\n"
          ]
        }
      ]
    },
    {
      "cell_type": "code",
      "source": [
        "students = {\"Alice\": 85,\"Bob\":78,\"Eve\": 92}\n",
        "def add_student(students,name,grade):\n",
        "  students[name]=grade\n",
        "  print(students)\n",
        "add_student(students,\"David\",88)\n",
        "def average_grade(students):\n",
        "  total=sum(students.values())\n",
        "  average=total/len(students)\n",
        "  print(average)\n",
        "average_grade(students)"
      ],
      "metadata": {
        "colab": {
          "base_uri": "https://localhost:8080/"
        },
        "id": "se5D548mGf5-",
        "outputId": "caafbef3-2059-4304-c527-52a69abb0137"
      },
      "execution_count": null,
      "outputs": [
        {
          "output_type": "stream",
          "name": "stdout",
          "text": [
            "{'Alice': 85, 'Bob': 78, 'Eve': 92, 'David': 88}\n",
            "85.75\n"
          ]
        }
      ]
    },
    {
      "cell_type": "markdown",
      "source": [],
      "metadata": {
        "id": "9W6bvv6oIvJQ"
      }
    },
    {
      "cell_type": "markdown",
      "source": [
        "10. Combining Data Dictionary and Functions\n",
        "Question:\n",
        "Create a dictionary named students to store the names and grades of three students:\n",
        "students = {\"Alice\": 85, \"Bob\": 78, \"Eve\": 92}\n",
        "a) Write a function named add_student that accepts a dictionary, a student name, and a grade, then adds the student to the dictionary.\n",
        "b) Write another function named average_grade that calculates the average grade of all students in the dictionary.\n",
        "Call the functions to:\n",
        "  1.\tAdd a new student (\"David\": 88).\n",
        "  2.\tCalculate and print the average grade\n"
      ],
      "metadata": {
        "id": "gbzn-rOAeFKI"
      }
    }
  ]
}